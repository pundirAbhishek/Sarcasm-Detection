{
  "nbformat": 4,
  "nbformat_minor": 0,
  "metadata": {
    "colab": {
      "name": "Untitled0.ipynb",
      "provenance": []
    },
    "kernelspec": {
      "name": "python3",
      "display_name": "Python 3"
    },
    "accelerator": "GPU"
  },
  "cells": [
    {
      "cell_type": "markdown",
      "metadata": {
        "id": "CB7uUjum21ql",
        "colab_type": "text"
      },
      "source": [
        "# Sarcasm Detection\n",
        "\n",
        "This model detects the sarcasm from the given news headline in the dataset\n",
        "\n",
        "Dataset : https://www.kaggle.com/rmisra/news-headlines-dataset-for-sarcasm-detection\n",
        "\n"
      ]
    },
    {
      "cell_type": "markdown",
      "metadata": {
        "id": "ThaxB69126GJ",
        "colab_type": "text"
      },
      "source": [
        "## Imports"
      ]
    },
    {
      "cell_type": "code",
      "metadata": {
        "id": "Is-VV96opfgO",
        "colab_type": "code",
        "colab": {}
      },
      "source": [
        "import numpy as np\n",
        "import pandas as pd\n",
        "import matplotlib.pyplot as plt\n",
        "\n",
        "import tensorflow as tf\n",
        "from tensorflow.keras.preprocessing.text import Tokenizer\n",
        "from tensorflow.keras.preprocessing.sequence import pad_sequences"
      ],
      "execution_count": 24,
      "outputs": []
    },
    {
      "cell_type": "markdown",
      "metadata": {
        "id": "w2FRD0u83Rnc",
        "colab_type": "text"
      },
      "source": [
        "## Model Variables"
      ]
    },
    {
      "cell_type": "code",
      "metadata": {
        "id": "GoXsg1lWpo79",
        "colab_type": "code",
        "colab": {}
      },
      "source": [
        "vocab_size = 20000\n",
        "embedding_dim = 200\n",
        "max_length = 120\n",
        "trunc_type='post'\n",
        "padding_type='post'\n",
        "oov_tok = \"<OOV>\"\n",
        "training_size = 20000"
      ],
      "execution_count": 6,
      "outputs": []
    },
    {
      "cell_type": "code",
      "metadata": {
        "id": "oL0-D0FjpukH",
        "colab_type": "code",
        "colab": {
          "base_uri": "https://localhost:8080/",
          "height": 206
        },
        "outputId": "10394e36-5a81-4410-8723-a1748255e43f"
      },
      "source": [
        "df = pd.read_json('sample_data/Sarcasm_Headlines_Dataset_v2.json', lines=True)\n",
        "df.head()"
      ],
      "execution_count": 7,
      "outputs": [
        {
          "output_type": "execute_result",
          "data": {
            "text/html": [
              "<div>\n",
              "<style scoped>\n",
              "    .dataframe tbody tr th:only-of-type {\n",
              "        vertical-align: middle;\n",
              "    }\n",
              "\n",
              "    .dataframe tbody tr th {\n",
              "        vertical-align: top;\n",
              "    }\n",
              "\n",
              "    .dataframe thead th {\n",
              "        text-align: right;\n",
              "    }\n",
              "</style>\n",
              "<table border=\"1\" class=\"dataframe\">\n",
              "  <thead>\n",
              "    <tr style=\"text-align: right;\">\n",
              "      <th></th>\n",
              "      <th>is_sarcastic</th>\n",
              "      <th>headline</th>\n",
              "      <th>article_link</th>\n",
              "    </tr>\n",
              "  </thead>\n",
              "  <tbody>\n",
              "    <tr>\n",
              "      <th>0</th>\n",
              "      <td>1</td>\n",
              "      <td>thirtysomething scientists unveil doomsday clo...</td>\n",
              "      <td>https://www.theonion.com/thirtysomething-scien...</td>\n",
              "    </tr>\n",
              "    <tr>\n",
              "      <th>1</th>\n",
              "      <td>0</td>\n",
              "      <td>dem rep. totally nails why congress is falling...</td>\n",
              "      <td>https://www.huffingtonpost.com/entry/donna-edw...</td>\n",
              "    </tr>\n",
              "    <tr>\n",
              "      <th>2</th>\n",
              "      <td>0</td>\n",
              "      <td>eat your veggies: 9 deliciously different recipes</td>\n",
              "      <td>https://www.huffingtonpost.com/entry/eat-your-...</td>\n",
              "    </tr>\n",
              "    <tr>\n",
              "      <th>3</th>\n",
              "      <td>1</td>\n",
              "      <td>inclement weather prevents liar from getting t...</td>\n",
              "      <td>https://local.theonion.com/inclement-weather-p...</td>\n",
              "    </tr>\n",
              "    <tr>\n",
              "      <th>4</th>\n",
              "      <td>1</td>\n",
              "      <td>mother comes pretty close to using word 'strea...</td>\n",
              "      <td>https://www.theonion.com/mother-comes-pretty-c...</td>\n",
              "    </tr>\n",
              "  </tbody>\n",
              "</table>\n",
              "</div>"
            ],
            "text/plain": [
              "   is_sarcastic  ...                                       article_link\n",
              "0             1  ...  https://www.theonion.com/thirtysomething-scien...\n",
              "1             0  ...  https://www.huffingtonpost.com/entry/donna-edw...\n",
              "2             0  ...  https://www.huffingtonpost.com/entry/eat-your-...\n",
              "3             1  ...  https://local.theonion.com/inclement-weather-p...\n",
              "4             1  ...  https://www.theonion.com/mother-comes-pretty-c...\n",
              "\n",
              "[5 rows x 3 columns]"
            ]
          },
          "metadata": {
            "tags": []
          },
          "execution_count": 7
        }
      ]
    },
    {
      "cell_type": "code",
      "metadata": {
        "id": "gNkbWCwSqGcm",
        "colab_type": "code",
        "colab": {
          "base_uri": "https://localhost:8080/",
          "height": 34
        },
        "outputId": "640acaa0-e6f6-4f37-e164-275eaf15c6ff"
      },
      "source": [
        "df.shape"
      ],
      "execution_count": 8,
      "outputs": [
        {
          "output_type": "execute_result",
          "data": {
            "text/plain": [
              "(28619, 3)"
            ]
          },
          "metadata": {
            "tags": []
          },
          "execution_count": 8
        }
      ]
    },
    {
      "cell_type": "code",
      "metadata": {
        "id": "McL4XgGNqcKK",
        "colab_type": "code",
        "colab": {
          "base_uri": "https://localhost:8080/",
          "height": 191
        },
        "outputId": "090200ae-9046-4a75-c633-13d83c7b6e4c"
      },
      "source": [
        "df.info()"
      ],
      "execution_count": 9,
      "outputs": [
        {
          "output_type": "stream",
          "text": [
            "<class 'pandas.core.frame.DataFrame'>\n",
            "RangeIndex: 28619 entries, 0 to 28618\n",
            "Data columns (total 3 columns):\n",
            " #   Column        Non-Null Count  Dtype \n",
            "---  ------        --------------  ----- \n",
            " 0   is_sarcastic  28619 non-null  int64 \n",
            " 1   headline      28619 non-null  object\n",
            " 2   article_link  28619 non-null  object\n",
            "dtypes: int64(1), object(2)\n",
            "memory usage: 670.9+ KB\n"
          ],
          "name": "stdout"
        }
      ]
    },
    {
      "cell_type": "markdown",
      "metadata": {
        "id": "eiFjC5yB3cRA",
        "colab_type": "text"
      },
      "source": [
        "**This shows that the dataset contains no null values**"
      ]
    },
    {
      "cell_type": "markdown",
      "metadata": {
        "id": "TvTo6oYJ3e9K",
        "colab_type": "text"
      },
      "source": [
        "## Training and Testing Data"
      ]
    },
    {
      "cell_type": "code",
      "metadata": {
        "id": "qtBdxrKaqd3J",
        "colab_type": "code",
        "colab": {}
      },
      "source": [
        "sentences = df['headline']\n",
        "labels = df['is_sarcastic']\n",
        "urls = df['article_link']\n",
        "\n",
        "training_sentences = sentences[0:training_size]\n",
        "testing_sentences = sentences[training_size:]\n",
        "training_labels = labels[0:training_size]\n",
        "testing_labels = labels[training_size:]"
      ],
      "execution_count": 10,
      "outputs": []
    },
    {
      "cell_type": "markdown",
      "metadata": {
        "id": "nC29No7u3hps",
        "colab_type": "text"
      },
      "source": [
        "## Tokenizer"
      ]
    },
    {
      "cell_type": "code",
      "metadata": {
        "id": "lDriNkH4qfXN",
        "colab_type": "code",
        "colab": {}
      },
      "source": [
        "tokenizer = Tokenizer(num_words=vocab_size, oov_token=oov_tok)\n",
        "tokenizer.fit_on_texts(training_sentences)\n",
        "\n",
        "word_index = tokenizer.word_index"
      ],
      "execution_count": 11,
      "outputs": []
    },
    {
      "cell_type": "code",
      "metadata": {
        "id": "TqjYize8qgyC",
        "colab_type": "code",
        "colab": {}
      },
      "source": [
        "# Training and Testing sequences\n",
        "\n",
        "training_sequences = tokenizer.texts_to_sequences(training_sentences)\n",
        "training_padded = pad_sequences(training_sequences, maxlen=max_length, padding=padding_type, truncating=trunc_type)\n",
        "\n",
        "testing_sequences = tokenizer.texts_to_sequences(testing_sentences)\n",
        "testing_padded = pad_sequences(testing_sequences, maxlen=max_length, padding=padding_type, truncating=trunc_type)"
      ],
      "execution_count": 12,
      "outputs": []
    },
    {
      "cell_type": "markdown",
      "metadata": {
        "id": "-c7ROZYL3kUq",
        "colab_type": "text"
      },
      "source": [
        "## Model "
      ]
    },
    {
      "cell_type": "code",
      "metadata": {
        "id": "n1IhCIFqqiIE",
        "colab_type": "code",
        "colab": {
          "base_uri": "https://localhost:8080/",
          "height": 364
        },
        "outputId": "8769dfc0-9051-4503-ac62-01a3ec49e086"
      },
      "source": [
        "model = tf.keras.Sequential([\n",
        "    tf.keras.layers.Embedding(vocab_size, embedding_dim, input_length=max_length),\n",
        "    tf.keras.layers.Bidirectional(tf.keras.layers.LSTM(64, return_sequences=True)),\n",
        "    tf.keras.layers.Bidirectional(tf.keras.layers.LSTM(64)),\n",
        "    tf.keras.layers.Dense(64, activation='relu'),\n",
        "    tf.keras.layers.Dense(32, activation='relu'),\n",
        "    tf.keras.layers.Dense(1, activation='sigmoid')\n",
        "])\n",
        "model.compile(loss='binary_crossentropy',optimizer='adam',metrics=['accuracy'])\n",
        "model.summary()"
      ],
      "execution_count": 13,
      "outputs": [
        {
          "output_type": "stream",
          "text": [
            "Model: \"sequential\"\n",
            "_________________________________________________________________\n",
            "Layer (type)                 Output Shape              Param #   \n",
            "=================================================================\n",
            "embedding (Embedding)        (None, 120, 200)          4000000   \n",
            "_________________________________________________________________\n",
            "bidirectional (Bidirectional (None, 120, 128)          135680    \n",
            "_________________________________________________________________\n",
            "bidirectional_1 (Bidirection (None, 128)               98816     \n",
            "_________________________________________________________________\n",
            "dense (Dense)                (None, 64)                8256      \n",
            "_________________________________________________________________\n",
            "dense_1 (Dense)              (None, 32)                2080      \n",
            "_________________________________________________________________\n",
            "dense_2 (Dense)              (None, 1)                 33        \n",
            "=================================================================\n",
            "Total params: 4,244,865\n",
            "Trainable params: 4,244,865\n",
            "Non-trainable params: 0\n",
            "_________________________________________________________________\n"
          ],
          "name": "stdout"
        }
      ]
    },
    {
      "cell_type": "code",
      "metadata": {
        "id": "llbflF3Sqjd0",
        "colab_type": "code",
        "colab": {}
      },
      "source": [
        "num_epochs = 20\n",
        "training_padded = np.array(training_padded)\n",
        "training_labels = np.array(training_labels)\n",
        "testing_padded = np.array(testing_padded)\n",
        "testing_labels = np.array(testing_labels)"
      ],
      "execution_count": 14,
      "outputs": []
    },
    {
      "cell_type": "code",
      "metadata": {
        "id": "0vJDc1PPqk08",
        "colab_type": "code",
        "colab": {
          "base_uri": "https://localhost:8080/",
          "height": 732
        },
        "outputId": "8f1bbfc7-b622-40d2-903f-d8a235724eb6"
      },
      "source": [
        "history = model.fit(training_padded, training_labels, epochs=num_epochs, \n",
        "                    validation_data=(testing_padded, testing_labels), verbose=1)"
      ],
      "execution_count": 15,
      "outputs": [
        {
          "output_type": "stream",
          "text": [
            "Epoch 1/20\n",
            "625/625 [==============================] - 107s 172ms/step - loss: 0.3834 - accuracy: 0.8227 - val_loss: 0.3074 - val_accuracy: 0.8689\n",
            "Epoch 2/20\n",
            "625/625 [==============================] - 107s 171ms/step - loss: 0.1473 - accuracy: 0.9444 - val_loss: 0.3605 - val_accuracy: 0.8560\n",
            "Epoch 3/20\n",
            "625/625 [==============================] - 106s 170ms/step - loss: 0.0568 - accuracy: 0.9808 - val_loss: 0.4659 - val_accuracy: 0.8508\n",
            "Epoch 4/20\n",
            "625/625 [==============================] - 106s 169ms/step - loss: 0.0277 - accuracy: 0.9901 - val_loss: 0.6370 - val_accuracy: 0.8545\n",
            "Epoch 5/20\n",
            "625/625 [==============================] - 106s 170ms/step - loss: 0.0156 - accuracy: 0.9954 - val_loss: 0.7994 - val_accuracy: 0.8443\n",
            "Epoch 6/20\n",
            "625/625 [==============================] - 107s 172ms/step - loss: 0.0117 - accuracy: 0.9962 - val_loss: 0.7894 - val_accuracy: 0.8463\n",
            "Epoch 7/20\n",
            "625/625 [==============================] - 106s 170ms/step - loss: 0.0072 - accuracy: 0.9973 - val_loss: 1.0841 - val_accuracy: 0.8423\n",
            "Epoch 8/20\n",
            "625/625 [==============================] - 106s 170ms/step - loss: 0.0054 - accuracy: 0.9987 - val_loss: 0.9264 - val_accuracy: 0.8386\n",
            "Epoch 9/20\n",
            "625/625 [==============================] - 107s 171ms/step - loss: 0.0025 - accuracy: 0.9991 - val_loss: 1.2871 - val_accuracy: 0.8397\n",
            "Epoch 10/20\n",
            "625/625 [==============================] - 107s 171ms/step - loss: 0.0052 - accuracy: 0.9985 - val_loss: 0.8986 - val_accuracy: 0.8391\n",
            "Epoch 11/20\n",
            "625/625 [==============================] - 107s 171ms/step - loss: 0.0060 - accuracy: 0.9980 - val_loss: 1.1152 - val_accuracy: 0.8373\n",
            "Epoch 12/20\n",
            "625/625 [==============================] - 107s 171ms/step - loss: 0.0052 - accuracy: 0.9984 - val_loss: 1.0398 - val_accuracy: 0.8401\n",
            "Epoch 13/20\n",
            "625/625 [==============================] - 107s 171ms/step - loss: 0.0041 - accuracy: 0.9983 - val_loss: 1.2001 - val_accuracy: 0.8404\n",
            "Epoch 14/20\n",
            "625/625 [==============================] - 107s 171ms/step - loss: 0.0023 - accuracy: 0.9994 - val_loss: 1.1856 - val_accuracy: 0.8390\n",
            "Epoch 15/20\n",
            "625/625 [==============================] - 107s 171ms/step - loss: 0.0019 - accuracy: 0.9995 - val_loss: 1.2703 - val_accuracy: 0.8435\n",
            "Epoch 16/20\n",
            "625/625 [==============================] - 108s 172ms/step - loss: 0.0016 - accuracy: 0.9995 - val_loss: 1.3046 - val_accuracy: 0.8369\n",
            "Epoch 17/20\n",
            "625/625 [==============================] - 107s 172ms/step - loss: 0.0018 - accuracy: 0.9994 - val_loss: 1.3545 - val_accuracy: 0.8458\n",
            "Epoch 18/20\n",
            "625/625 [==============================] - 107s 171ms/step - loss: 0.0029 - accuracy: 0.9989 - val_loss: 1.2425 - val_accuracy: 0.8325\n",
            "Epoch 19/20\n",
            "625/625 [==============================] - 106s 170ms/step - loss: 0.0028 - accuracy: 0.9990 - val_loss: 1.3120 - val_accuracy: 0.8351\n",
            "Epoch 20/20\n",
            "625/625 [==============================] - 107s 171ms/step - loss: 2.8645e-04 - accuracy: 0.9999 - val_loss: 1.7512 - val_accuracy: 0.8310\n"
          ],
          "name": "stdout"
        }
      ]
    },
    {
      "cell_type": "code",
      "metadata": {
        "id": "4bDLBdGcql5o",
        "colab_type": "code",
        "colab": {
          "base_uri": "https://localhost:8080/",
          "height": 34
        },
        "outputId": "d2202818-0774-47e4-b994-ee263274c497"
      },
      "source": [
        "np.mean(history.history['val_accuracy'])"
      ],
      "execution_count": 26,
      "outputs": [
        {
          "output_type": "execute_result",
          "data": {
            "text/plain": [
              "0.8430966436862946"
            ]
          },
          "metadata": {
            "tags": []
          },
          "execution_count": 26
        }
      ]
    },
    {
      "cell_type": "code",
      "metadata": {
        "id": "UI1-SpWA1eZ2",
        "colab_type": "code",
        "colab": {
          "base_uri": "https://localhost:8080/",
          "height": 279
        },
        "outputId": "4969a085-7287-42ee-a156-adea4e5bd1e9"
      },
      "source": [
        "def plot_graphs(history, string):\n",
        "  plt.plot(history.history[string])\n",
        "  plt.plot(history.history['val_'+string])\n",
        "  plt.xlabel(\"Epochs\")\n",
        "  plt.ylabel(string)\n",
        "  plt.legend([string, 'val_'+string])\n",
        "  plt.show()\n",
        "\n",
        "plot_graphs(history, 'accuracy')"
      ],
      "execution_count": 25,
      "outputs": [
        {
          "output_type": "display_data",
          "data": {
            "image/png": "[encoded data removed]",
            "text/plain": [
              "<Figure size 432x288 with 1 Axes>"
            ]
          },
          "metadata": {
            "tags": [],
            "needs_background": "light"
          }
        }
      ]
    }
  ]
}